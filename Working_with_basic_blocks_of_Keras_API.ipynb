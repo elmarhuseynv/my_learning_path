{
  "nbformat": 4,
  "nbformat_minor": 0,
  "metadata": {
    "colab": {
      "provenance": []
    },
    "kernelspec": {
      "name": "python3",
      "display_name": "Python 3"
    },
    "language_info": {
      "name": "python"
    }
  },
  "cells": [
    {
      "cell_type": "markdown",
      "source": [
        "## Importing teh required libraries"
      ],
      "metadata": {
        "id": "peROTD8fzAu2"
      }
    },
    {
      "cell_type": "code",
      "execution_count": 1,
      "metadata": {
        "id": "wUkHhOUCydo9"
      },
      "outputs": [],
      "source": [
        " from  sklearn.model_selection import train_test_split\n",
        " from sklearn.preprocessing import LabelBinarizer\n",
        " from tensorflow.keras import Input\n",
        " from tensorflow.keras.datasets import mnist\n",
        " from tensorflow.keras.layers import Dense\n",
        " from tensorflow.keras.models import Model\n",
        " from tensorflow.keras.models import Sequential"
      ]
    },
    {
      "cell_type": "markdown",
      "source": [
        "## Creating a model using Sequential API"
      ],
      "metadata": {
        "id": "EZCft9iUzNo2"
      }
    },
    {
      "cell_type": "code",
      "source": [
        "layers = [Dense(256, input_shape=(28*28*1,),\n",
        "                activation='sigmoid'),\n",
        "          Dense(128, activation=\"sigmoid\"),\n",
        "          Dense(10, activation='softmax')\n",
        "          ]\n",
        "sequential_model_list = Sequential(layers)"
      ],
      "metadata": {
        "id": "arD0zZJSzATW"
      },
      "execution_count": 2,
      "outputs": []
    },
    {
      "cell_type": "markdown",
      "source": [
        "## Creating a model using add() method"
      ],
      "metadata": {
        "id": "QXASiD5A0F4G"
      }
    },
    {
      "cell_type": "code",
      "source": [
        "sequential_model = Sequential()\n",
        "sequential_model.add(Dense(256,\n",
        "                           input_shape=(28*28*1,),\n",
        "                           activation='sigmoid'))\n",
        "sequential_model.add(Dense(128, activation='sigmoid'))\n",
        "sequential_model.add(Dense(10, activation='softmax'))"
      ],
      "metadata": {
        "id": "_gd6im6nzlHb"
      },
      "execution_count": 3,
      "outputs": []
    },
    {
      "cell_type": "markdown",
      "source": [
        "## Creating a model using Functional API"
      ],
      "metadata": {
        "id": "G22764911AQ5"
      }
    },
    {
      "cell_type": "code",
      "source": [
        "input_layer = Input(shape=(28*28*1,))\n",
        "dense_1 = Dense(256, activation='sigmoid')(input_layer)\n",
        "dense_2 = Dense(128, activation='sigmoid')(dense_1)\n",
        "predictions = Dense(10, activation='softmax')(dense_2)\n",
        "functional_model = Model(inputs = input_layer,\n",
        "                         outputs = predictions)"
      ],
      "metadata": {
        "id": "mPT09czY1F3H"
      },
      "execution_count": 4,
      "outputs": []
    },
    {
      "cell_type": "markdown",
      "source": [
        "##Loading the data"
      ],
      "metadata": {
        "id": "0isjWbFF4yl3"
      }
    },
    {
      "cell_type": "code",
      "source": [
        "(X_train, y_train),(X_test, y_test) = mnist.load_data()"
      ],
      "metadata": {
        "id": "F0tGvLCO4jgT"
      },
      "execution_count": 5,
      "outputs": []
    },
    {
      "cell_type": "markdown",
      "source": [
        "## Reshape the Data"
      ],
      "metadata": {
        "id": "bminzDO946zi"
      }
    },
    {
      "cell_type": "code",
      "source": [
        "X_train = X_train.reshape((X_train.shape[0], 28 * 28 * 1))\n",
        "X_test = X_test.reshape((X_test.shape[0], 28 * 28 * 1))\n",
        "\n",
        "X_train = X_train.astype('float32') / 255.0\n",
        "X_test = X_test.astype('float32') / 255.0"
      ],
      "metadata": {
        "id": "bEcNhKQ14wKd"
      },
      "execution_count": 6,
      "outputs": []
    },
    {
      "cell_type": "markdown",
      "source": [
        "## One-hot Encode the labels"
      ],
      "metadata": {
        "id": "aZDgWQtB45z3"
      }
    },
    {
      "cell_type": "code",
      "source": [
        "label_binarizer = LabelBinarizer()\n",
        "\n",
        "y_train = label_binarizer.fit_transform(y_train)\n",
        "y_test = label_binarizer.fit_transform(y_test)"
      ],
      "metadata": {
        "id": "f2srx1eqC2Nc"
      },
      "execution_count": 7,
      "outputs": []
    },
    {
      "cell_type": "markdown",
      "source": [
        "## Take 20% of the data for validation"
      ],
      "metadata": {
        "id": "3R3SCVdcCsAG"
      }
    },
    {
      "cell_type": "code",
      "source": [
        "X_train, X_valid, y_train, y_valid = train_test_split(X_train, y_train, test_size=0.8) "
      ],
      "metadata": {
        "id": "LsaSHGVtDLfp"
      },
      "execution_count": 8,
      "outputs": []
    },
    {
      "cell_type": "markdown",
      "source": [
        "## Compile, train the models for 50 epochs, and evaluate"
      ],
      "metadata": {
        "id": "BTEKvdz8DghH"
      }
    },
    {
      "cell_type": "code",
      "source": [
        "models = {\n",
        "    'sequential_model': sequential_model,\n",
        "    'sequential_model_list' : sequential_model_list,\n",
        "    'functional_model' : functional_model\n",
        "}\n",
        "\n",
        "for name, model in models.items():\n",
        "                                print(f'Compiling models: {name}')\n",
        "                                model.compile(loss='categorical_crossentropy',\n",
        "                                              optimizer='adam',\n",
        "                                              metrics=['accuracy'])\n",
        "                                print(f'Training model: {name}')\n",
        "                                model.fit(X_train, y_train,\n",
        "                                          validation_data=(X_valid, y_valid),\n",
        "                                          epochs=50,\n",
        "                                          batch_size=256,\n",
        "                                          verbose=0)\n",
        "\n",
        "                                _, accuracy = model.evaluate(X_test, y_test, verbose=0)\n",
        "\n",
        "                                print(f'Testing model: {name}. \\Accuracy: {accuracy}')\n",
        "                                print('---')"
      ],
      "metadata": {
        "colab": {
          "base_uri": "https://localhost:8080/"
        },
        "id": "V_QWBkbmDm3w",
        "outputId": "0f6e9110-3b94-4d43-9f83-fa2a905236dc"
      },
      "execution_count": 9,
      "outputs": [
        {
          "output_type": "stream",
          "name": "stdout",
          "text": [
            "Compiling models: sequential_model\n",
            "Training model: sequential_model\n",
            "Testing model: sequential_model. \\Accuracy: 0.9598000049591064\n",
            "---\n",
            "Compiling models: sequential_model_list\n",
            "Training model: sequential_model_list\n",
            "Testing model: sequential_model_list. \\Accuracy: 0.9595000147819519\n",
            "---\n",
            "Compiling models: functional_model\n",
            "Training model: functional_model\n",
            "Testing model: functional_model. \\Accuracy: 0.9595999717712402\n",
            "---\n"
          ]
        }
      ]
    }
  ]
}