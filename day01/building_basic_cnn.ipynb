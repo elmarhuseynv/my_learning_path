{
  "nbformat": 4,
  "nbformat_minor": 0,
  "metadata": {
    "colab": {
      "name": "building basic cnn.ipynb",
      "provenance": []
    },
    "kernelspec": {
      "name": "python3",
      "display_name": "Python 3"
    },
    "language_info": {
      "name": "python"
    }
  },
  "cells": [
    {
      "cell_type": "markdown",
      "source": [
        "Importing libraries and packages"
      ],
      "metadata": {
        "id": "Pg4XMd0aVpF1"
      }
    },
    {
      "cell_type": "code",
      "execution_count": 3,
      "metadata": {
        "id": "TmZnvLgTVnj-"
      },
      "outputs": [],
      "source": [
        "from keras.models import Sequential\n",
        "from keras.layers import Convolution2D\n",
        "from keras.layers import MaxPooling2D\n",
        "from keras.layers import Flatten\n",
        "from keras.layers import Dense"
      ]
    },
    {
      "cell_type": "markdown",
      "source": [
        "Initializing the CNN"
      ],
      "metadata": {
        "id": "NQuOYCETVpTQ"
      }
    },
    {
      "cell_type": "code",
      "source": [
        "cnn = Sequential()"
      ],
      "metadata": {
        "id": "IdYalkWDaGw0"
      },
      "execution_count": 4,
      "outputs": []
    },
    {
      "cell_type": "markdown",
      "source": [
        "Convolution\n"
      ],
      "metadata": {
        "id": "BdF0PWVeVpfB"
      }
    },
    {
      "cell_type": "code",
      "source": [
        "cnn.add(Convolution2D(32, 3, 3, input_shape=(64,64,3), activation='relu'))"
      ],
      "metadata": {
        "id": "v74yKsfPaOV5"
      },
      "execution_count": 5,
      "outputs": []
    },
    {
      "cell_type": "markdown",
      "source": [
        "Pooling"
      ],
      "metadata": {
        "id": "Qd5YYH07VraA"
      }
    },
    {
      "cell_type": "code",
      "source": [
        "cnn.add(MaxPooling2D(pool_size=(2,2)))"
      ],
      "metadata": {
        "id": "_7jrIaM5adsy"
      },
      "execution_count": 6,
      "outputs": []
    },
    {
      "cell_type": "markdown",
      "source": [
        "Second convolutional layer"
      ],
      "metadata": {
        "id": "4Gm237BPVrjp"
      }
    },
    {
      "cell_type": "code",
      "source": [
        "cnn.add(Convolution2D(32, 3, 3, activation='relu'))\n",
        "cnn.add(MaxPooling2D(pool_size=(2,2)))"
      ],
      "metadata": {
        "id": "ISdDcI18alM2"
      },
      "execution_count": 7,
      "outputs": []
    },
    {
      "cell_type": "markdown",
      "source": [
        "Flatten"
      ],
      "metadata": {
        "id": "Qlqq4qaeVrtf"
      }
    },
    {
      "cell_type": "code",
      "source": [
        "cnn.add(Flatten())"
      ],
      "metadata": {
        "id": "LUG8SR7uasD0"
      },
      "execution_count": 8,
      "outputs": []
    },
    {
      "cell_type": "markdown",
      "source": [
        "Full Connection"
      ],
      "metadata": {
        "id": "6oQBLlYJVr2d"
      }
    },
    {
      "cell_type": "code",
      "source": [
        "cnn.add(Dense(128, activation='relu'))\n",
        "cnn.add(Dense(1, activation='sigmoid'))"
      ],
      "metadata": {
        "id": "lmeLUUq-au2Q"
      },
      "execution_count": 12,
      "outputs": []
    },
    {
      "cell_type": "markdown",
      "source": [
        "Compiling"
      ],
      "metadata": {
        "id": "-NsqF5coVsBI"
      }
    },
    {
      "cell_type": "code",
      "source": [
        "cnn.compile(optimizer='adam', loss='binary_crossentropy', metrics=['accuracy'])"
      ],
      "metadata": {
        "id": "0tEqfMPTbVvB"
      },
      "execution_count": 14,
      "outputs": []
    }
  ]
}